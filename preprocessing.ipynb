{
 "cells": [
  {
   "cell_type": "code",
   "execution_count": 1,
   "metadata": {},
   "outputs": [],
   "source": [
    "import numpy as np\n",
    "import pandas as pd\n",
    "import matplotlib.pyplot as plt"
   ]
  },
  {
   "cell_type": "code",
   "execution_count": 2,
   "metadata": {},
   "outputs": [],
   "source": [
    "df = pd.read_csv('Data/merged_movies_data.csv')"
   ]
  },
  {
   "cell_type": "code",
   "execution_count": 3,
   "metadata": {},
   "outputs": [],
   "source": [
    "# 이상치 및 결측치 확인\n",
    "# 상영시간이 잘못 들어간 값 확인\n",
    "# df[df['Duration'].str.contains('h|m') == False]\n",
    "# 값이 모두 0인 컬럼 확인\n",
    "# df['wins'].value_counts()"
   ]
  },
  {
   "cell_type": "code",
   "execution_count": 5,
   "metadata": {},
   "outputs": [],
   "source": [
    "# Duration 중에 h와 m이 존재하지 않는 row 확인\n",
    "# Duration 에 MPA 데이터가 들어있는 row 확인 -> MPA로 변경필요 및 기존 Druation은 NaN으로 변경\n",
    "for i in df[df['Duration'].str.contains('h|m') == False].index:\n",
    "    df.loc[i, 'MPA'] = df.loc[i, 'Duration']\n",
    "    df.loc[i, 'Duration'] = np.nan"
   ]
  },
  {
   "cell_type": "code",
   "execution_count": 6,
   "metadata": {},
   "outputs": [],
   "source": [
    "# 데이터 형식 변경\n",
    "# Duration 컬럼의 데이터 형식을 변경\n",
    "def convert_duration_to_minutes(duration):\n",
    "    if pd.isna(duration):  # NaN 체크\n",
    "        return duration  # NaN 값 pass\n",
    "    hours = 0\n",
    "    minutes = 0\n",
    "\n",
    "    # 시간 값 추출 (예: '2h')\n",
    "    if 'h' in duration:\n",
    "        hours = int(duration.split('h')[0].strip())\n",
    "\n",
    "    # 분 값 추출 (예: '22m')\n",
    "    if 'm' in duration:\n",
    "        minutes_part = duration.split('h')[-1].strip()  # '22m' 추출\n",
    "        minutes = int(minutes_part.replace('m', '').strip())\n",
    "\n",
    "    # 총 분으로 변환\n",
    "    return hours * 60 + minutes\n",
    "\n",
    "# Duration 컬럼 변환\n",
    "df['Duration'] = df['Duration'].apply(convert_duration_to_minutes)"
   ]
  },
  {
   "cell_type": "code",
   "execution_count": 7,
   "metadata": {},
   "outputs": [],
   "source": [
    "# Votes 데이터 변환\n",
    "# votes 값을 숫자로 변환하는 함수 (1.4k -> 1400)\n",
    "def convert_votes(votes_value):\n",
    "    if pd.isna(votes_value):  # NaN 값 처리\n",
    "        return np.nan\n",
    "    elif 'K' in votes_value:  # 'K'가 있는 경우\n",
    "        return float(votes_value.replace('K', '')) * 1000\n",
    "    elif 'M' in votes_value:  # 'M'이 있는 경우\n",
    "        return float(votes_value.replace('M', '')) * 1000000\n",
    "    else:  # 기타 값\n",
    "        return float(votes_value)\n",
    "\n",
    "# 함수 적용 \n",
    "df['Votes'] = df['Votes'].apply(convert_votes)\n"
   ]
  },
  {
   "cell_type": "code",
   "execution_count": 18,
   "metadata": {},
   "outputs": [
    {
     "ename": "KeyError",
     "evalue": "\"['Movie Link'] not found in axis\"",
     "output_type": "error",
     "traceback": [
      "\u001b[0;31m---------------------------------------------------------------------------\u001b[0m",
      "\u001b[0;31mKeyError\u001b[0m                                  Traceback (most recent call last)",
      "Cell \u001b[0;32mIn[18], line 2\u001b[0m\n\u001b[1;32m      1\u001b[0m \u001b[38;5;66;03m# 불필요 컬럼 삭제\u001b[39;00m\n\u001b[0;32m----> 2\u001b[0m df \u001b[38;5;241m=\u001b[39m \u001b[43mdf\u001b[49m\u001b[38;5;241;43m.\u001b[39;49m\u001b[43mdrop\u001b[49m\u001b[43m(\u001b[49m\u001b[38;5;124;43m'\u001b[39;49m\u001b[38;5;124;43mMovie Link\u001b[39;49m\u001b[38;5;124;43m'\u001b[39;49m\u001b[43m,\u001b[49m\u001b[43m \u001b[49m\u001b[43maxis\u001b[49m\u001b[38;5;241;43m=\u001b[39;49m\u001b[38;5;241;43m1\u001b[39;49m\u001b[43m)\u001b[49m \u001b[38;5;66;03m# Movie Link 컬럼 삭제 (분석에 불필요)\u001b[39;00m\n\u001b[1;32m      3\u001b[0m df \u001b[38;5;241m=\u001b[39m df\u001b[38;5;241m.\u001b[39mdrop(\u001b[38;5;124m'\u001b[39m\u001b[38;5;124mrelease_date\u001b[39m\u001b[38;5;124m'\u001b[39m, axis\u001b[38;5;241m=\u001b[39m\u001b[38;5;241m1\u001b[39m) \u001b[38;5;66;03m# release_date 컬럼 삭제 (year 컬럼과 중복\u001b[39;00m\n\u001b[1;32m      4\u001b[0m df \u001b[38;5;241m=\u001b[39m df\u001b[38;5;241m.\u001b[39mdrop(\u001b[38;5;124m'\u001b[39m\u001b[38;5;124mwins\u001b[39m\u001b[38;5;124m'\u001b[39m, axis\u001b[38;5;241m=\u001b[39m\u001b[38;5;241m1\u001b[39m) \u001b[38;5;66;03m# 값이 모두 0인 컬럼 삭제\u001b[39;00m\n",
      "File \u001b[0;32m/opt/anaconda3/envs/pystudy_env/lib/python3.12/site-packages/pandas/core/frame.py:5581\u001b[0m, in \u001b[0;36mDataFrame.drop\u001b[0;34m(self, labels, axis, index, columns, level, inplace, errors)\u001b[0m\n\u001b[1;32m   5433\u001b[0m \u001b[38;5;28;01mdef\u001b[39;00m \u001b[38;5;21mdrop\u001b[39m(\n\u001b[1;32m   5434\u001b[0m     \u001b[38;5;28mself\u001b[39m,\n\u001b[1;32m   5435\u001b[0m     labels: IndexLabel \u001b[38;5;241m|\u001b[39m \u001b[38;5;28;01mNone\u001b[39;00m \u001b[38;5;241m=\u001b[39m \u001b[38;5;28;01mNone\u001b[39;00m,\n\u001b[0;32m   (...)\u001b[0m\n\u001b[1;32m   5442\u001b[0m     errors: IgnoreRaise \u001b[38;5;241m=\u001b[39m \u001b[38;5;124m\"\u001b[39m\u001b[38;5;124mraise\u001b[39m\u001b[38;5;124m\"\u001b[39m,\n\u001b[1;32m   5443\u001b[0m ) \u001b[38;5;241m-\u001b[39m\u001b[38;5;241m>\u001b[39m DataFrame \u001b[38;5;241m|\u001b[39m \u001b[38;5;28;01mNone\u001b[39;00m:\n\u001b[1;32m   5444\u001b[0m \u001b[38;5;250m    \u001b[39m\u001b[38;5;124;03m\"\"\"\u001b[39;00m\n\u001b[1;32m   5445\u001b[0m \u001b[38;5;124;03m    Drop specified labels from rows or columns.\u001b[39;00m\n\u001b[1;32m   5446\u001b[0m \n\u001b[0;32m   (...)\u001b[0m\n\u001b[1;32m   5579\u001b[0m \u001b[38;5;124;03m            weight  1.0     0.8\u001b[39;00m\n\u001b[1;32m   5580\u001b[0m \u001b[38;5;124;03m    \"\"\"\u001b[39;00m\n\u001b[0;32m-> 5581\u001b[0m     \u001b[38;5;28;01mreturn\u001b[39;00m \u001b[38;5;28;43msuper\u001b[39;49m\u001b[43m(\u001b[49m\u001b[43m)\u001b[49m\u001b[38;5;241;43m.\u001b[39;49m\u001b[43mdrop\u001b[49m\u001b[43m(\u001b[49m\n\u001b[1;32m   5582\u001b[0m \u001b[43m        \u001b[49m\u001b[43mlabels\u001b[49m\u001b[38;5;241;43m=\u001b[39;49m\u001b[43mlabels\u001b[49m\u001b[43m,\u001b[49m\n\u001b[1;32m   5583\u001b[0m \u001b[43m        \u001b[49m\u001b[43maxis\u001b[49m\u001b[38;5;241;43m=\u001b[39;49m\u001b[43maxis\u001b[49m\u001b[43m,\u001b[49m\n\u001b[1;32m   5584\u001b[0m \u001b[43m        \u001b[49m\u001b[43mindex\u001b[49m\u001b[38;5;241;43m=\u001b[39;49m\u001b[43mindex\u001b[49m\u001b[43m,\u001b[49m\n\u001b[1;32m   5585\u001b[0m \u001b[43m        \u001b[49m\u001b[43mcolumns\u001b[49m\u001b[38;5;241;43m=\u001b[39;49m\u001b[43mcolumns\u001b[49m\u001b[43m,\u001b[49m\n\u001b[1;32m   5586\u001b[0m \u001b[43m        \u001b[49m\u001b[43mlevel\u001b[49m\u001b[38;5;241;43m=\u001b[39;49m\u001b[43mlevel\u001b[49m\u001b[43m,\u001b[49m\n\u001b[1;32m   5587\u001b[0m \u001b[43m        \u001b[49m\u001b[43minplace\u001b[49m\u001b[38;5;241;43m=\u001b[39;49m\u001b[43minplace\u001b[49m\u001b[43m,\u001b[49m\n\u001b[1;32m   5588\u001b[0m \u001b[43m        \u001b[49m\u001b[43merrors\u001b[49m\u001b[38;5;241;43m=\u001b[39;49m\u001b[43merrors\u001b[49m\u001b[43m,\u001b[49m\n\u001b[1;32m   5589\u001b[0m \u001b[43m    \u001b[49m\u001b[43m)\u001b[49m\n",
      "File \u001b[0;32m/opt/anaconda3/envs/pystudy_env/lib/python3.12/site-packages/pandas/core/generic.py:4788\u001b[0m, in \u001b[0;36mNDFrame.drop\u001b[0;34m(self, labels, axis, index, columns, level, inplace, errors)\u001b[0m\n\u001b[1;32m   4786\u001b[0m \u001b[38;5;28;01mfor\u001b[39;00m axis, labels \u001b[38;5;129;01min\u001b[39;00m axes\u001b[38;5;241m.\u001b[39mitems():\n\u001b[1;32m   4787\u001b[0m     \u001b[38;5;28;01mif\u001b[39;00m labels \u001b[38;5;129;01mis\u001b[39;00m \u001b[38;5;129;01mnot\u001b[39;00m \u001b[38;5;28;01mNone\u001b[39;00m:\n\u001b[0;32m-> 4788\u001b[0m         obj \u001b[38;5;241m=\u001b[39m \u001b[43mobj\u001b[49m\u001b[38;5;241;43m.\u001b[39;49m\u001b[43m_drop_axis\u001b[49m\u001b[43m(\u001b[49m\u001b[43mlabels\u001b[49m\u001b[43m,\u001b[49m\u001b[43m \u001b[49m\u001b[43maxis\u001b[49m\u001b[43m,\u001b[49m\u001b[43m \u001b[49m\u001b[43mlevel\u001b[49m\u001b[38;5;241;43m=\u001b[39;49m\u001b[43mlevel\u001b[49m\u001b[43m,\u001b[49m\u001b[43m \u001b[49m\u001b[43merrors\u001b[49m\u001b[38;5;241;43m=\u001b[39;49m\u001b[43merrors\u001b[49m\u001b[43m)\u001b[49m\n\u001b[1;32m   4790\u001b[0m \u001b[38;5;28;01mif\u001b[39;00m inplace:\n\u001b[1;32m   4791\u001b[0m     \u001b[38;5;28mself\u001b[39m\u001b[38;5;241m.\u001b[39m_update_inplace(obj)\n",
      "File \u001b[0;32m/opt/anaconda3/envs/pystudy_env/lib/python3.12/site-packages/pandas/core/generic.py:4830\u001b[0m, in \u001b[0;36mNDFrame._drop_axis\u001b[0;34m(self, labels, axis, level, errors, only_slice)\u001b[0m\n\u001b[1;32m   4828\u001b[0m         new_axis \u001b[38;5;241m=\u001b[39m axis\u001b[38;5;241m.\u001b[39mdrop(labels, level\u001b[38;5;241m=\u001b[39mlevel, errors\u001b[38;5;241m=\u001b[39merrors)\n\u001b[1;32m   4829\u001b[0m     \u001b[38;5;28;01melse\u001b[39;00m:\n\u001b[0;32m-> 4830\u001b[0m         new_axis \u001b[38;5;241m=\u001b[39m \u001b[43maxis\u001b[49m\u001b[38;5;241;43m.\u001b[39;49m\u001b[43mdrop\u001b[49m\u001b[43m(\u001b[49m\u001b[43mlabels\u001b[49m\u001b[43m,\u001b[49m\u001b[43m \u001b[49m\u001b[43merrors\u001b[49m\u001b[38;5;241;43m=\u001b[39;49m\u001b[43merrors\u001b[49m\u001b[43m)\u001b[49m\n\u001b[1;32m   4831\u001b[0m     indexer \u001b[38;5;241m=\u001b[39m axis\u001b[38;5;241m.\u001b[39mget_indexer(new_axis)\n\u001b[1;32m   4833\u001b[0m \u001b[38;5;66;03m# Case for non-unique axis\u001b[39;00m\n\u001b[1;32m   4834\u001b[0m \u001b[38;5;28;01melse\u001b[39;00m:\n",
      "File \u001b[0;32m/opt/anaconda3/envs/pystudy_env/lib/python3.12/site-packages/pandas/core/indexes/base.py:7070\u001b[0m, in \u001b[0;36mIndex.drop\u001b[0;34m(self, labels, errors)\u001b[0m\n\u001b[1;32m   7068\u001b[0m \u001b[38;5;28;01mif\u001b[39;00m mask\u001b[38;5;241m.\u001b[39many():\n\u001b[1;32m   7069\u001b[0m     \u001b[38;5;28;01mif\u001b[39;00m errors \u001b[38;5;241m!=\u001b[39m \u001b[38;5;124m\"\u001b[39m\u001b[38;5;124mignore\u001b[39m\u001b[38;5;124m\"\u001b[39m:\n\u001b[0;32m-> 7070\u001b[0m         \u001b[38;5;28;01mraise\u001b[39;00m \u001b[38;5;167;01mKeyError\u001b[39;00m(\u001b[38;5;124mf\u001b[39m\u001b[38;5;124m\"\u001b[39m\u001b[38;5;132;01m{\u001b[39;00mlabels[mask]\u001b[38;5;241m.\u001b[39mtolist()\u001b[38;5;132;01m}\u001b[39;00m\u001b[38;5;124m not found in axis\u001b[39m\u001b[38;5;124m\"\u001b[39m)\n\u001b[1;32m   7071\u001b[0m     indexer \u001b[38;5;241m=\u001b[39m indexer[\u001b[38;5;241m~\u001b[39mmask]\n\u001b[1;32m   7072\u001b[0m \u001b[38;5;28;01mreturn\u001b[39;00m \u001b[38;5;28mself\u001b[39m\u001b[38;5;241m.\u001b[39mdelete(indexer)\n",
      "\u001b[0;31mKeyError\u001b[0m: \"['Movie Link'] not found in axis\""
     ]
    }
   ],
   "source": [
    "# 불필요 컬럼 삭제\n",
    "df = df.drop('Movie Link', axis=1) # Movie Link 컬럼 삭제 (분석에 불필요)\n",
    "df = df.drop('release_date', axis=1) # release_date 컬럼 삭제 (year 컬럼과 중복\n",
    "df = df.drop('wins', axis=1) # 값이 모두 0인 컬럼 삭제\n",
    "df.info()"
   ]
  },
  {
   "cell_type": "code",
   "execution_count": 9,
   "metadata": {},
   "outputs": [],
   "source": [
    "# 결측치 대체\n",
    "# 수익 관련 데이터 결측치 처리\n",
    "df['grossWorldWide'] = df['grossWorldWide'].fillna(0)\n",
    "df['gross_US_Canada'] = df['gross_US_Canada'].fillna(0)\n",
    "df['opening_weekend_Gross'] = df['opening_weekend_Gross'].fillna(0)\n",
    "\n",
    "# 등급 관련 데이터 결측치 처리\n",
    "df['MPA'] = df['MPA'].fillna(\"Not Rated\")\n",
    "\n",
    "# 평점 관련 데이터 결측치 처리\n",
    "df['Rating'] = df['Rating'].fillna(0)\n",
    "df['Votes'] = df['Votes'].fillna(0)\n",
    "\n",
    "# 상영시간 관련 데이터 결측치 처리\n",
    "df['Duration'] = df['Duration'].fillna(df['Duration'].mean())\n",
    "\n",
    "# 빈 배열인 값 (결측치) 처리\n",
    "df['directors'] = df['directors'].replace('[]', \"['Unknown Director']\")\n",
    "df['writers'] = df['writers'].replace('[]', \"['Unknown Writer']\")\n",
    "df['stars'] = df['stars'].replace('[]', \"['Unknown Cast']\")\n",
    "df['countries_origin'] = df['countries_origin'].replace('[]', \"['Unknown Country']\")\n",
    "df['filming_locations'] = df['filming_locations'].replace('[]', \"['Unknown Location']\")\n",
    "df['production_companies'] = df['production_companies'].replace('[]', \"['Unknown Studio']\")\n",
    "df['Languages'] = df['Languages'].replace('[]', \"['Unknown Language']\")"
   ]
  },
  {
   "cell_type": "code",
   "execution_count": 11,
   "metadata": {},
   "outputs": [
    {
     "data": {
      "text/plain": [
       "np.int64(5951)"
      ]
     },
     "execution_count": 11,
     "metadata": {},
     "output_type": "execute_result"
    }
   ],
   "source": [
    "df.budget.isnull().sum()"
   ]
  },
  {
   "cell_type": "code",
   "execution_count": 12,
   "metadata": {},
   "outputs": [
    {
     "data": {
      "text/plain": [
       "np.int64(1918)"
      ]
     },
     "execution_count": 12,
     "metadata": {},
     "output_type": "execute_result"
    }
   ],
   "source": [
    "# 장르별 예산이 없는 데이터의 경우 동일한 장르의 평균 예산으로 대체\n",
    "df['budget'] = df['budget'].fillna(df.groupby('genres')['budget'].transform('mean'))\n",
    "df.budget.isnull().sum()"
   ]
  },
  {
   "cell_type": "code",
   "execution_count": 13,
   "metadata": {},
   "outputs": [],
   "source": [
    "# 예산이 없는 데이터의 인덱스 추출\n",
    "# indices = df[df['budget'].isnull()].index\n",
    "# display(df[df.budget.isnull()])"
   ]
  },
  {
   "cell_type": "code",
   "execution_count": 14,
   "metadata": {},
   "outputs": [],
   "source": [
    "genre_groups = {\n",
    "    \"Epic\": [\"Action Epic\", \"Fantasy Epic\", \"Adventure Epic\", \"War Epic\", \"Historical Epic\", \"Western Epic\", \"Romantic Epic\"],\n",
    "    \"Fantasy\": [\"Fantasy\", \"Supernatural Fantasy\", \"Dark Fantasy\", \"Sword & Sorcery\"],\n",
    "    \"Action\": [\"Action\", \"Car Action\", \"One-Person Army Action\", \"Martial Arts\", \"Gun Fu\"],\n",
    "    \"Comedy\": [\"Comedy\", \"High-Concept Comedy\", \"Dark Comedy\", \"Slapstick\", \"Quirky Comedy\", \"Teen Comedy\", \"Raunchy Comedy\", \"Parody\", \"Screwball Comedy\", \"Stoner Comedy\", \"Body Swap Comedy\"],\n",
    "    \"Horror\": [\"Horror\", \"Splatter Horror\", \"Slasher Horror\", \"Zombie Horror\", \"Monster Horror\", \"Vampire Horror\", \"Werewolf Horror\", \"Witch Horror\", \"Psychological Horror\", \"Body Horror\", \"Found Footage Horror\", \"Folk Horror\", \"B-Horror\", \"Kaiju\"],\n",
    "    \"Romance\": [\"Romance\", \"Feel-Good Romance\", \"Holiday Romance\", \"Steamy Romance\", \"Tragic Romance\", \"Teen Romance\", \"Holiday Family\", \"Romantic Comedy\"],\n",
    "    \"Adventure\": [\"Adventure\", \"Jungle Adventure\", \"Mountain Adventure\", \"Sea Adventure\", \"Desert Adventure\", \"Urban Adventure\", \"Globetrotting Adventure\", \"Teen Adventure\"],\n",
    "    \"Drama\": [\"Drama\", \"Period Drama\", \"Legal Drama\", \"Crime Drama\", \"Medical Drama\", \"Political Drama\", \"Workplace Drama\", \"Teen Drama\", \"Psychological Drama\", \"Historical Drama\", \"Showbiz Drama\", \"Family Drama\"]\n",
    "}\n",
    "\n",
    "# 장르를 카테고리로 묶는 함수 정의\n",
    "def categorize_genre(genre: str):\n",
    "    for category, genres in genre_groups.items():\n",
    "        for g in genres:\n",
    "            if g in genre:\n",
    "                return category\n",
    "        if category in genre:\n",
    "            return category\n",
    "    return \"Other\"\n",
    "\n",
    "# 카테고리 컬럼 추가 및 장르별 카테고리 설정\n",
    "df['Category'] = df['genres'].apply(categorize_genre)\n",
    "\n",
    "# 카테고리별 예산이 없는 데이터의 확인\n",
    "# display(df[df.budget.isnull()])\n",
    "# df.budget.isnull().sum()"
   ]
  },
  {
   "cell_type": "code",
   "execution_count": 15,
   "metadata": {},
   "outputs": [],
   "source": [
    "## 카테고리별 예산 평균값을 구하고 null 값에 대입하기\n",
    "df['budget'] = df['budget'].fillna(df['Category'].map(df.groupby('Category')['budget'].mean()))"
   ]
  },
  {
   "cell_type": "code",
   "execution_count": 16,
   "metadata": {},
   "outputs": [],
   "source": [
    "# indices 값이 잘 들어갔는지 확인\n",
    "# df.loc[indices]"
   ]
  },
  {
   "cell_type": "code",
   "execution_count": 17,
   "metadata": {},
   "outputs": [
    {
     "name": "stdout",
     "output_type": "stream",
     "text": [
      "<class 'pandas.core.frame.DataFrame'>\n",
      "RangeIndex: 10700 entries, 0 to 10699\n",
      "Data columns (total 21 columns):\n",
      " #   Column                 Non-Null Count  Dtype  \n",
      "---  ------                 --------------  -----  \n",
      " 0   Title                  10700 non-null  object \n",
      " 1   Year                   10700 non-null  int64  \n",
      " 2   Duration               10700 non-null  float64\n",
      " 3   MPA                    10700 non-null  object \n",
      " 4   Rating                 10700 non-null  float64\n",
      " 5   Votes                  10700 non-null  float64\n",
      " 6   budget                 10700 non-null  float64\n",
      " 7   grossWorldWide         10700 non-null  float64\n",
      " 8   gross_US_Canada        10700 non-null  float64\n",
      " 9   opening_weekend_Gross  10700 non-null  float64\n",
      " 10  directors              10700 non-null  object \n",
      " 11  writers                10700 non-null  object \n",
      " 12  stars                  10700 non-null  object \n",
      " 13  genres                 10700 non-null  object \n",
      " 14  countries_origin       10700 non-null  object \n",
      " 15  filming_locations      10700 non-null  object \n",
      " 16  production_companies   10700 non-null  object \n",
      " 17  Languages              10700 non-null  object \n",
      " 18  nominations            10700 non-null  int64  \n",
      " 19  oscars                 10700 non-null  int64  \n",
      " 20  Category               10700 non-null  object \n",
      "dtypes: float64(7), int64(3), object(11)\n",
      "memory usage: 1.7+ MB\n"
     ]
    },
    {
     "data": {
      "text/html": [
       "<div>\n",
       "<style scoped>\n",
       "    .dataframe tbody tr th:only-of-type {\n",
       "        vertical-align: middle;\n",
       "    }\n",
       "\n",
       "    .dataframe tbody tr th {\n",
       "        vertical-align: top;\n",
       "    }\n",
       "\n",
       "    .dataframe thead th {\n",
       "        text-align: right;\n",
       "    }\n",
       "</style>\n",
       "<table border=\"1\" class=\"dataframe\">\n",
       "  <thead>\n",
       "    <tr style=\"text-align: right;\">\n",
       "      <th></th>\n",
       "      <th>Year</th>\n",
       "      <th>Duration</th>\n",
       "      <th>Rating</th>\n",
       "      <th>Votes</th>\n",
       "      <th>budget</th>\n",
       "      <th>grossWorldWide</th>\n",
       "      <th>gross_US_Canada</th>\n",
       "      <th>opening_weekend_Gross</th>\n",
       "      <th>nominations</th>\n",
       "      <th>oscars</th>\n",
       "    </tr>\n",
       "  </thead>\n",
       "  <tbody>\n",
       "    <tr>\n",
       "      <th>count</th>\n",
       "      <td>10700.000000</td>\n",
       "      <td>10700.000000</td>\n",
       "      <td>10700.000000</td>\n",
       "      <td>1.070000e+04</td>\n",
       "      <td>1.070000e+04</td>\n",
       "      <td>1.070000e+04</td>\n",
       "      <td>1.070000e+04</td>\n",
       "      <td>1.070000e+04</td>\n",
       "      <td>10700.000000</td>\n",
       "      <td>10700.000000</td>\n",
       "    </tr>\n",
       "    <tr>\n",
       "      <th>mean</th>\n",
       "      <td>2014.654766</td>\n",
       "      <td>106.090278</td>\n",
       "      <td>6.347729</td>\n",
       "      <td>5.426478e+04</td>\n",
       "      <td>1.303077e+08</td>\n",
       "      <td>4.286324e+07</td>\n",
       "      <td>1.636946e+07</td>\n",
       "      <td>4.950719e+06</td>\n",
       "      <td>10.948598</td>\n",
       "      <td>0.099252</td>\n",
       "    </tr>\n",
       "    <tr>\n",
       "      <th>std</th>\n",
       "      <td>5.828472</td>\n",
       "      <td>20.382064</td>\n",
       "      <td>1.129014</td>\n",
       "      <td>1.370121e+05</td>\n",
       "      <td>3.037201e+09</td>\n",
       "      <td>1.413102e+08</td>\n",
       "      <td>5.318728e+07</td>\n",
       "      <td>1.677251e+07</td>\n",
       "      <td>28.736221</td>\n",
       "      <td>0.500172</td>\n",
       "    </tr>\n",
       "    <tr>\n",
       "      <th>min</th>\n",
       "      <td>2005.000000</td>\n",
       "      <td>44.000000</td>\n",
       "      <td>0.000000</td>\n",
       "      <td>0.000000e+00</td>\n",
       "      <td>1.000000e+00</td>\n",
       "      <td>0.000000e+00</td>\n",
       "      <td>0.000000e+00</td>\n",
       "      <td>0.000000e+00</td>\n",
       "      <td>0.000000</td>\n",
       "      <td>0.000000</td>\n",
       "    </tr>\n",
       "    <tr>\n",
       "      <th>25%</th>\n",
       "      <td>2009.000000</td>\n",
       "      <td>92.000000</td>\n",
       "      <td>5.800000</td>\n",
       "      <td>1.400000e+03</td>\n",
       "      <td>3.670882e+06</td>\n",
       "      <td>7.006450e+04</td>\n",
       "      <td>2.664550e+04</td>\n",
       "      <td>4.458250e+03</td>\n",
       "      <td>0.000000</td>\n",
       "      <td>0.000000</td>\n",
       "    </tr>\n",
       "    <tr>\n",
       "      <th>50%</th>\n",
       "      <td>2015.000000</td>\n",
       "      <td>102.000000</td>\n",
       "      <td>6.500000</td>\n",
       "      <td>7.900000e+03</td>\n",
       "      <td>1.482267e+07</td>\n",
       "      <td>1.200102e+06</td>\n",
       "      <td>2.042350e+05</td>\n",
       "      <td>2.940000e+04</td>\n",
       "      <td>0.000000</td>\n",
       "      <td>0.000000</td>\n",
       "    </tr>\n",
       "    <tr>\n",
       "      <th>75%</th>\n",
       "      <td>2020.000000</td>\n",
       "      <td>116.000000</td>\n",
       "      <td>7.100000</td>\n",
       "      <td>4.200000e+04</td>\n",
       "      <td>4.000000e+07</td>\n",
       "      <td>1.830332e+07</td>\n",
       "      <td>4.197936e+06</td>\n",
       "      <td>6.802742e+05</td>\n",
       "      <td>10.000000</td>\n",
       "      <td>0.000000</td>\n",
       "    </tr>\n",
       "    <tr>\n",
       "      <th>max</th>\n",
       "      <td>2024.000000</td>\n",
       "      <td>325.000000</td>\n",
       "      <td>9.600000</td>\n",
       "      <td>3.000000e+06</td>\n",
       "      <td>3.000000e+11</td>\n",
       "      <td>2.923706e+09</td>\n",
       "      <td>9.366622e+08</td>\n",
       "      <td>3.571150e+08</td>\n",
       "      <td>433.000000</td>\n",
       "      <td>10.000000</td>\n",
       "    </tr>\n",
       "  </tbody>\n",
       "</table>\n",
       "</div>"
      ],
      "text/plain": [
       "               Year      Duration        Rating         Votes        budget  \\\n",
       "count  10700.000000  10700.000000  10700.000000  1.070000e+04  1.070000e+04   \n",
       "mean    2014.654766    106.090278      6.347729  5.426478e+04  1.303077e+08   \n",
       "std        5.828472     20.382064      1.129014  1.370121e+05  3.037201e+09   \n",
       "min     2005.000000     44.000000      0.000000  0.000000e+00  1.000000e+00   \n",
       "25%     2009.000000     92.000000      5.800000  1.400000e+03  3.670882e+06   \n",
       "50%     2015.000000    102.000000      6.500000  7.900000e+03  1.482267e+07   \n",
       "75%     2020.000000    116.000000      7.100000  4.200000e+04  4.000000e+07   \n",
       "max     2024.000000    325.000000      9.600000  3.000000e+06  3.000000e+11   \n",
       "\n",
       "       grossWorldWide  gross_US_Canada  opening_weekend_Gross   nominations  \\\n",
       "count    1.070000e+04     1.070000e+04           1.070000e+04  10700.000000   \n",
       "mean     4.286324e+07     1.636946e+07           4.950719e+06     10.948598   \n",
       "std      1.413102e+08     5.318728e+07           1.677251e+07     28.736221   \n",
       "min      0.000000e+00     0.000000e+00           0.000000e+00      0.000000   \n",
       "25%      7.006450e+04     2.664550e+04           4.458250e+03      0.000000   \n",
       "50%      1.200102e+06     2.042350e+05           2.940000e+04      0.000000   \n",
       "75%      1.830332e+07     4.197936e+06           6.802742e+05     10.000000   \n",
       "max      2.923706e+09     9.366622e+08           3.571150e+08    433.000000   \n",
       "\n",
       "             oscars  \n",
       "count  10700.000000  \n",
       "mean       0.099252  \n",
       "std        0.500172  \n",
       "min        0.000000  \n",
       "25%        0.000000  \n",
       "50%        0.000000  \n",
       "75%        0.000000  \n",
       "max       10.000000  "
      ]
     },
     "execution_count": 17,
     "metadata": {},
     "output_type": "execute_result"
    }
   ],
   "source": [
    "df.info()\n",
    "df.describe()"
   ]
  }
 ],
 "metadata": {
  "kernelspec": {
   "display_name": "pystudy_env",
   "language": "python",
   "name": "python3"
  },
  "language_info": {
   "codemirror_mode": {
    "name": "ipython",
    "version": 3
   },
   "file_extension": ".py",
   "mimetype": "text/x-python",
   "name": "python",
   "nbconvert_exporter": "python",
   "pygments_lexer": "ipython3",
   "version": "3.12.8"
  }
 },
 "nbformat": 4,
 "nbformat_minor": 2
}
