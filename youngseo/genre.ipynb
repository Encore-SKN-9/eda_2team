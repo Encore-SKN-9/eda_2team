{
 "cells": [
  {
   "cell_type": "code",
   "execution_count": 13,
   "metadata": {},
   "outputs": [],
   "source": [
    "import pandas as pd\n",
    "import re"
   ]
  },
  {
   "cell_type": "code",
   "execution_count": 5,
   "metadata": {},
   "outputs": [
    {
     "name": "stdout",
     "output_type": "stream",
     "text": [
      "Collecting ace_tools\n",
      "  Downloading ace_tools-0.0-py3-none-any.whl.metadata (300 bytes)\n",
      "Downloading ace_tools-0.0-py3-none-any.whl (1.1 kB)\n",
      "Installing collected packages: ace_tools\n",
      "Successfully installed ace_tools-0.0\n"
     ]
    }
   ],
   "source": [
    "# !pip install ace_tools"
   ]
  },
  {
   "cell_type": "code",
   "execution_count": 43,
   "metadata": {},
   "outputs": [
    {
     "name": "stdout",
     "output_type": "stream",
     "text": [
      "             Genre\n",
      "0       ActionEpic\n",
      "1      FantasyEpic\n",
      "2    Sword&Sorcery\n",
      "3    AdventureEpic\n",
      "4            Farce\n",
      "..             ...\n",
      "180        Holiday\n",
      "181         Seinen\n",
      "182         Shōnen\n",
      "183      RealityTV\n",
      "184       TalkShow\n",
      "\n",
      "[185 rows x 1 columns]\n"
     ]
    }
   ],
   "source": [
    "df = pd.read_csv('./data/ys_merged_movies_data.csv')\n",
    "\n",
    "# 쉼표 제거\n",
    "df_genres = df['genres'].str.split(',',expand=True)\n",
    "\n",
    "# 장르만 추출\n",
    "df_genres = df_genres.melt(value_name='Genre').dropna(subset=['Genre'])\n",
    "\n",
    "# 대괄호,괄호,따옴표등 제거\n",
    "\n",
    "df_genres['Genre'] = df_genres['Genre'].apply(lambda x: re.sub(r\"[\\[\\]()'\\\" ]\", \"\", x))\n",
    "df_genres = df_genres[['Genre']].dropna().reset_index(drop=True)\n",
    "\n",
    "# 중복된 값 제거\n",
    "df_genres = df_genres.drop_duplicates(subset=['Genre'])\n",
    "# df_genres.describe()\n",
    "# df_genres.info()\n",
    "\n",
    "# 인덱스 초기화 및 불필요한 열 제거거\n",
    "df_genres = df_genres[['Genre']].reset_index(drop=True)\n",
    "print(df_genres)\n",
    "df_genres.to_csv('data/Genre.csv', index=False)"
   ]
  },
  {
   "cell_type": "code",
   "execution_count": 57,
   "metadata": {},
   "outputs": [
    {
     "name": "stdout",
     "output_type": "stream",
     "text": [
      "              genres        budget\n",
      "0                     0.000000e+00\n",
      "1             Action  6.424403e+11\n",
      "2        Action Epic  3.978353e+10\n",
      "3    Adult Animation  8.553900e+08\n",
      "4          Adventure  1.893925e+11\n",
      "..               ...           ...\n",
      "180        Whodunnit  1.280500e+09\n",
      "181     Witch Horror  1.622000e+08\n",
      "182  Workplace Drama  4.861992e+08\n",
      "183            Wuxia  1.246632e+09\n",
      "184    Zombie Horror  1.110070e+10\n",
      "\n",
      "[185 rows x 2 columns]\n"
     ]
    }
   ],
   "source": [
    "df_movies = pd.read_csv('./data/ys_merged_movies_data.csv')\n",
    "df_genres = pd.read_csv('./data/Genre.csv')\n",
    "\n",
    "df_movies['genres'] = df_movies['genres'].str.split(',')\n",
    "\n",
    "df_genres_expanded = df_movies.explode('genres')\n",
    "\n",
    "\n",
    "df_genres_expanded['genres'] = df_genres_expanded['genres'].str.strip().str.replace(r\"[\\[\\]\\']\", \"\", regex=True)\n",
    "\n",
    "# 5단계: 장르별 예산 합계를 구합니다.\n",
    "genre_budget = df_genres_expanded.groupby('genres')['budget'].sum().reset_index()\n",
    "\n",
    "\n",
    "print(genre_budget)\n",
    "\n",
    "# genre_budget.to_csv('data/genre_budget.csv', index=False)\n"
   ]
  },
  {
   "cell_type": "code",
   "execution_count": 59,
   "metadata": {},
   "outputs": [
    {
     "name": "stdout",
     "output_type": "stream",
     "text": [
      "              genres        budget\n",
      "0                              NaN\n",
      "1             Action  5.601049e+08\n",
      "2        Action Epic  5.035889e+08\n",
      "3    Adult Animation  3.421560e+07\n",
      "4          Adventure  2.169444e+08\n",
      "..               ...           ...\n",
      "180        Whodunnit  3.880303e+07\n",
      "181     Witch Horror  1.247692e+07\n",
      "182  Workplace Drama  2.025830e+07\n",
      "183            Wuxia  1.246632e+08\n",
      "184    Zombie Horror  2.775175e+08\n",
      "\n",
      "[185 rows x 2 columns]\n"
     ]
    }
   ],
   "source": [
    "genre_budget_avg = df_genres_expanded.groupby('genres')['budget'].mean().reset_index()\n",
    "print(genre_budget_avg)"
   ]
  },
  {
   "cell_type": "code",
   "execution_count": null,
   "metadata": {},
   "outputs": [],
   "source": []
  }
 ],
 "metadata": {
  "kernelspec": {
   "display_name": "pystudy_env",
   "language": "python",
   "name": "python3"
  },
  "language_info": {
   "codemirror_mode": {
    "name": "ipython",
    "version": 3
   },
   "file_extension": ".py",
   "mimetype": "text/x-python",
   "name": "python",
   "nbconvert_exporter": "python",
   "pygments_lexer": "ipython3",
   "version": "3.12.8"
  }
 },
 "nbformat": 4,
 "nbformat_minor": 2
}
