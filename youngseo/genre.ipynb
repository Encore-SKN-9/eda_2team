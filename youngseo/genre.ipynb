{
 "cells": [
  {
   "cell_type": "code",
   "execution_count": 13,
   "metadata": {},
   "outputs": [],
   "source": [
    "import pandas as pd\n",
    "import re"
   ]
  },
  {
   "cell_type": "code",
   "execution_count": 5,
   "metadata": {},
   "outputs": [
    {
     "name": "stdout",
     "output_type": "stream",
     "text": [
      "Collecting ace_tools\n",
      "  Downloading ace_tools-0.0-py3-none-any.whl.metadata (300 bytes)\n",
      "Downloading ace_tools-0.0-py3-none-any.whl (1.1 kB)\n",
      "Installing collected packages: ace_tools\n",
      "Successfully installed ace_tools-0.0\n"
     ]
    }
   ],
   "source": [
    "# !pip install ace_tools"
   ]
  },
  {
   "cell_type": "code",
   "execution_count": null,
   "metadata": {},
   "outputs": [
    {
     "name": "stdout",
     "output_type": "stream",
     "text": [
      "             Genre\n",
      "0       ActionEpic\n",
      "1      FantasyEpic\n",
      "2    Sword&Sorcery\n",
      "3    AdventureEpic\n",
      "4            Farce\n",
      "..             ...\n",
      "180        Holiday\n",
      "181         Seinen\n",
      "182         Shōnen\n",
      "183      RealityTV\n",
      "184       TalkShow\n",
      "\n",
      "[185 rows x 1 columns]\n"
     ]
    }
   ],
   "source": [
    "df = pd.read_csv('./data/ys_merged_movies_data.csv')\n",
    "\n",
    "# 쉼표 제거\n",
    "df_genres = df['genres'].str.split(',',expand=True)\n",
    "\n",
    "# 장르만 추출\n",
    "df_genres = df_genres.melt(value_name='Genre').dropna(subset=['Genre'])\n",
    "\n",
    "# 대괄호,괄호,따옴표등 제거\n",
    "\n",
    "df_genres['Genre'] = df_genres['Genre'].apply(lambda x: re.sub(r\"[\\[\\]()'\\\" ]\", \"\", x))\n",
    "df_genres = df_genres[['Genre']].dropna().reset_index(drop=True)\n",
    "\n",
    "# 중복된 값 제거\n",
    "df_genres = df_genres.drop_duplicates(subset=['Genre'])\n",
    "# df_genres.describe()\n",
    "# df_genres.info()\n",
    "\n",
    "# 인덱스 초기화 및 불필요한 열 제거거\n",
    "df_genres = df_genres[['Genre']].reset_index(drop=True)\n",
    "print(df_genres)\n",
    "# df_genres.to_csv('data/Genre.csv', index=False)"
   ]
  }
 ],
 "metadata": {
  "kernelspec": {
   "display_name": "pystudy_env",
   "language": "python",
   "name": "python3"
  },
  "language_info": {
   "codemirror_mode": {
    "name": "ipython",
    "version": 3
   },
   "file_extension": ".py",
   "mimetype": "text/x-python",
   "name": "python",
   "nbconvert_exporter": "python",
   "pygments_lexer": "ipython3",
   "version": "3.12.8"
  }
 },
 "nbformat": 4,
 "nbformat_minor": 2
}
